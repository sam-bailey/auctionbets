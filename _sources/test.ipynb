{
 "cells": [
  {
   "cell_type": "markdown",
   "metadata": {},
   "source": [
    "# Simulation Basics\n",
    "\n",
    "These are the basic components we will use for our simulations. This notebook goes over how they work."
   ]
  },
  {
   "cell_type": "code",
   "execution_count": 1,
   "metadata": {},
   "outputs": [],
   "source": [
    "import numpy as np\n",
    "\n",
    "from auctionbets.events import Event\n",
    "from auctionbets.agents import Agent"
   ]
  },
  {
   "cell_type": "markdown",
   "metadata": {},
   "source": [
    "## Agents\n",
    "\n",
    "Agents represent people who make or lay bets. An agent just has their capital, which is the total stake of money they have left, and a list of ids for their open bets (bets they have not yet collected for). "
   ]
  },
  {
   "cell_type": "code",
   "execution_count": 2,
   "metadata": {},
   "outputs": [
    {
     "name": "stdout",
     "output_type": "stream",
     "text": [
      "**Agent 0**\n",
      "  Capital: 100.00\n",
      "  Open bets:\n",
      "**Agent 1**\n",
      "  Capital: 100.00\n",
      "  Open bets:\n"
     ]
    }
   ],
   "source": [
    "agent_1 = Agent(starting_capital=100.0)\n",
    "agent_2 = Agent(starting_capital=100.0)\n",
    "\n",
    "print(agent_1)\n",
    "print(agent_2)"
   ]
  },
  {
   "cell_type": "markdown",
   "metadata": {},
   "source": [
    "## Events\n",
    "\n",
    "Events represent specific sporting events with a binary outcome (win or lose). These are the events that agents can bet on. \n",
    "\n",
    "Each event has a \"true probability\" of happening. This is unknown to the agents. "
   ]
  },
  {
   "cell_type": "code",
   "execution_count": 3,
   "metadata": {},
   "outputs": [
    {
     "name": "stdout",
     "output_type": "stream",
     "text": [
      "**Event 2**\n",
      "  True Probability: 0.5\n",
      "  Bettor Odds: unset\n",
      "  Layer Odds: unset\n",
      "  All bets:\n"
     ]
    }
   ],
   "source": [
    "event_1 = Event(true_probability=0.5)\n",
    "print(event_1)"
   ]
  },
  {
   "cell_type": "markdown",
   "metadata": {},
   "source": [
    "Now agents can either bet or lay an event. \n",
    "\n",
    "If they bet the event, then they are betting the outcome happens. If it happens, they get their stake back, plus the odds * their stake. \n",
    "\n",
    "If the lay the event, they are taking the opposite side of that bet. Therefore, they lose if the outcome happens. If the outcome happens, they lose their money.\n",
    "\n",
    "Here agent 1 bets on the event, and agent 2 lays it."
   ]
  },
  {
   "cell_type": "code",
   "execution_count": 4,
   "metadata": {},
   "outputs": [
    {
     "name": "stdout",
     "output_type": "stream",
     "text": [
      "Bet(limit_odds=1.5, stake=10.0, agent_idx=0, event_idx=2)\n",
      "Lay(limit_odds=2.0, stake=30.0, agent_idx=1, event_idx=2)\n"
     ]
    }
   ],
   "source": [
    "bet_1 = agent_1.bet(min_odds=1.5, stake=10.0, event=event_1)\n",
    "bet_2 = agent_2.lay(max_odds=2.0, stake=30.0, event=event_1)\n",
    "\n",
    "print(bet_1)\n",
    "print(bet_2)"
   ]
  },
  {
   "cell_type": "markdown",
   "metadata": {},
   "source": [
    "Now the event and the agents both have those bets associated with them:"
   ]
  },
  {
   "cell_type": "code",
   "execution_count": 5,
   "metadata": {},
   "outputs": [
    {
     "name": "stdout",
     "output_type": "stream",
     "text": [
      "**Agent 0**\n",
      "  Capital: 90.00\n",
      "  Open bets:\n",
      "    Bet(limit_odds=1.5, stake=10.0, agent_idx=0, event_idx=2)\n",
      "**Agent 1**\n",
      "  Capital: 70.00\n",
      "  Open bets:\n",
      "    Lay(limit_odds=2.0, stake=30.0, agent_idx=1, event_idx=2)\n",
      "**Event 2**\n",
      "  True Probability: 0.5\n",
      "  Bettor Odds: unset\n",
      "  Layer Odds: unset\n",
      "  All bets:\n",
      "    Bet(limit_odds=1.5, stake=10.0, agent_idx=0, event_idx=2) (unmatched)\n",
      "    Lay(limit_odds=2.0, stake=30.0, agent_idx=1, event_idx=2) (unmatched)\n"
     ]
    }
   ],
   "source": [
    "print(agent_1)\n",
    "print(agent_2)\n",
    "print(event_1)"
   ]
  },
  {
   "cell_type": "markdown",
   "metadata": {},
   "source": [
    "## Running an event\n",
    "\n",
    "An event needs to first be matched, which is where we run the double auction mechanism and match up all possible bets. Those bets that cannot be matched get their stake returned."
   ]
  },
  {
   "cell_type": "code",
   "execution_count": 6,
   "metadata": {},
   "outputs": [
    {
     "name": "stdout",
     "output_type": "stream",
     "text": [
      "**Event 3**\n",
      "  True Probability: 0.5\n",
      "  Bettor Odds: unset\n",
      "  Layer Odds: unset\n",
      "  All bets:\n",
      "    Bet(limit_odds=0.9589482171556404, stake=10.121330157712098, agent_idx=5, event_idx=3) (unmatched)\n",
      "    Bet(limit_odds=1.1021913575105593, stake=13.953245977804585, agent_idx=6, event_idx=3) (unmatched)\n",
      "    Bet(limit_odds=0.9309395503090993, stake=10.969928514259815, agent_idx=8, event_idx=3) (unmatched)\n",
      "    Bet(limit_odds=1.0062928269129183, stake=18.276968409775435, agent_idx=9, event_idx=3) (unmatched)\n",
      "    Bet(limit_odds=1.276340366127901, stake=13.677591909940771, agent_idx=11, event_idx=3) (unmatched)\n",
      "    Bet(limit_odds=1.1210272911574104, stake=12.831402020378162, agent_idx=13, event_idx=3) (unmatched)\n",
      "    Bet(limit_odds=0.9894588871246991, stake=11.396531097069392, agent_idx=16, event_idx=3) (unmatched)\n",
      "    Bet(limit_odds=0.5414344592281355, stake=16.783826108285865, agent_idx=20, event_idx=3) (unmatched)\n",
      "    Bet(limit_odds=0.7103427077282701, stake=12.317451841489731, agent_idx=21, event_idx=3) (unmatched)\n",
      "    Bet(limit_odds=0.9755205449094754, stake=14.2145158579491, agent_idx=22, event_idx=3) (unmatched)\n",
      "    Lay(limit_odds=0.8160623504866288, stake=10.79059156787764, agent_idx=4, event_idx=3) (unmatched)\n",
      "    Lay(limit_odds=1.0908956165718169, stake=18.984262449156954, agent_idx=7, event_idx=3) (unmatched)\n",
      "    Lay(limit_odds=1.2994079940244945, stake=19.71518105313191, agent_idx=10, event_idx=3) (unmatched)\n",
      "    Lay(limit_odds=1.359272947733516, stake=12.375825722149383, agent_idx=12, event_idx=3) (unmatched)\n",
      "    Lay(limit_odds=1.2437152257620023, stake=16.142910345822763, agent_idx=14, event_idx=3) (unmatched)\n",
      "    Lay(limit_odds=0.8695600224511162, stake=12.008992822212651, agent_idx=15, event_idx=3) (unmatched)\n",
      "    Lay(limit_odds=0.9592068960499668, stake=19.498045159384546, agent_idx=17, event_idx=3) (unmatched)\n",
      "    Lay(limit_odds=0.6951714555849988, stake=13.840535624444145, agent_idx=18, event_idx=3) (unmatched)\n",
      "    Lay(limit_odds=0.9542946362006186, stake=16.30214360863711, agent_idx=19, event_idx=3) (unmatched)\n",
      "    Lay(limit_odds=1.2760704338610713, stake=13.205822731380557, agent_idx=23, event_idx=3) (unmatched)\n"
     ]
    }
   ],
   "source": [
    "event = Event(true_probability=0.5)\n",
    "\n",
    "n_agents = 20\n",
    "agents_pool = [Agent(starting_capital=0) for _ in range(n_agents)]\n",
    "\n",
    "is_lay_lst = np.random.choice([True, False], n_agents)\n",
    "stake_lst = np.random.rand(n_agents) * (20.0 - 10.0) + 10.0\n",
    "odds_lst = np.random.rand(n_agents) + 0.5\n",
    "\n",
    "for agent, is_lay, stake, odds in zip(agents_pool, is_lay_lst, stake_lst, odds_lst):\n",
    "    if is_lay:\n",
    "        agent.lay(event=event, max_odds=odds + 0.1, stake=stake)\n",
    "    else:\n",
    "        agent.bet(event=event, min_odds=odds - 0.1, stake=stake)\n",
    "\n",
    "print(event)"
   ]
  },
  {
   "cell_type": "code",
   "execution_count": 7,
   "metadata": {},
   "outputs": [
    {
     "name": "stdout",
     "output_type": "stream",
     "text": [
      "\n",
      "New round\n",
      "total_stake_bet = 0.0\n",
      "total_stake_layed = 0.0\n",
      "current_bet_odds = 0.5414344592281355\n",
      "current_lay_odds = 1.359272947733516\n",
      "Lay Needed\n",
      "next_lay_odds = 1.2994079940244945\n",
      "Lay matched\n",
      "\n",
      "New round\n",
      "total_stake_bet = 0.0\n",
      "total_stake_layed = 12.375825722149383\n",
      "current_bet_odds = 0.5414344592281355\n",
      "current_lay_odds = 1.2994079940244945\n",
      "Bet Needed\n",
      "Bet matched\n",
      "\n",
      "New round\n",
      "total_stake_bet = 16.783826108285865\n",
      "total_stake_layed = 12.375825722149383\n",
      "current_bet_odds = 0.7103427077282701\n",
      "current_lay_odds = 1.2994079940244945\n",
      "Lay Needed\n",
      "next_lay_odds = 1.2760704338610713\n",
      "Lay matched\n",
      "\n",
      "New round\n",
      "total_stake_bet = 16.783826108285865\n",
      "total_stake_layed = 32.09100677528129\n",
      "current_bet_odds = 0.7103427077282701\n",
      "current_lay_odds = 1.2760704338610713\n",
      "Bet Needed\n",
      "Bet matched\n",
      "\n",
      "New round\n",
      "total_stake_bet = 29.101277949775596\n",
      "total_stake_layed = 32.09100677528129\n",
      "current_bet_odds = 0.9309395503090993\n",
      "current_lay_odds = 1.2760704338610713\n",
      "Lay Needed\n",
      "next_lay_odds = 1.2437152257620023\n",
      "Lay matched\n",
      "\n",
      "New round\n",
      "total_stake_bet = 29.101277949775596\n",
      "total_stake_layed = 45.29682950666185\n",
      "current_bet_odds = 0.9309395503090993\n",
      "current_lay_odds = 1.2437152257620023\n",
      "Bet Needed\n",
      "Bet matched\n",
      "\n",
      "New round\n",
      "total_stake_bet = 40.07120646403541\n",
      "total_stake_layed = 45.29682950666185\n",
      "current_bet_odds = 0.9589482171556404\n",
      "current_lay_odds = 1.2437152257620023\n",
      "Lay Needed\n",
      "next_lay_odds = 1.0908956165718169\n",
      "Lay matched\n",
      "\n",
      "New round\n",
      "total_stake_bet = 40.07120646403541\n",
      "total_stake_layed = 61.439739852484614\n",
      "current_bet_odds = 0.9589482171556404\n",
      "current_lay_odds = 1.0908956165718169\n",
      "Bet Needed\n",
      "Bet matched\n",
      "\n",
      "New round\n",
      "total_stake_bet = 50.19253662174751\n",
      "total_stake_layed = 61.439739852484614\n",
      "current_bet_odds = 0.9755205449094754\n",
      "current_lay_odds = 1.0908956165718169\n",
      "Bet Needed\n",
      "Bet matched\n",
      "\n",
      "New round\n",
      "total_stake_bet = 64.4070524796966\n",
      "total_stake_layed = 61.439739852484614\n",
      "current_bet_odds = 0.9894588871246991\n",
      "current_lay_odds = 1.0908956165718169\n",
      "Lay Needed\n",
      "next_lay_odds = 0.9592068960499668\n",
      "Match not possible\n",
      "Process complete\n"
     ]
    }
   ],
   "source": [
    "event.match_bets()"
   ]
  },
  {
   "cell_type": "code",
   "execution_count": 8,
   "metadata": {},
   "outputs": [
    {
     "name": "stdout",
     "output_type": "stream",
     "text": [
      "**Event 3**\n",
      "  True Probability: 0.5\n",
      "  Bettor Odds: 0.9894588871246991\n",
      "  Layer Odds: 1.0908956165718169\n",
      "  All bets:\n",
      "    Bet(limit_odds=0.5414344592281355, stake=16.783826108285865, agent_idx=20, event_idx=3) (matched)\n",
      "    Bet(limit_odds=0.7103427077282701, stake=12.317451841489731, agent_idx=21, event_idx=3) (matched)\n",
      "    Bet(limit_odds=0.9309395503090993, stake=10.969928514259815, agent_idx=8, event_idx=3) (matched)\n",
      "    Bet(limit_odds=0.9589482171556404, stake=10.121330157712098, agent_idx=5, event_idx=3) (matched)\n",
      "    Bet(limit_odds=0.9755205449094754, stake=14.2145158579491, agent_idx=22, event_idx=3) (matched)\n",
      "    Bet(limit_odds=0.9894588871246991, stake=11.396531097069392, agent_idx=16, event_idx=3) (unmatched)\n",
      "    Bet(limit_odds=1.0062928269129183, stake=18.276968409775435, agent_idx=9, event_idx=3) (unmatched)\n",
      "    Bet(limit_odds=1.1021913575105593, stake=13.953245977804585, agent_idx=6, event_idx=3) (unmatched)\n",
      "    Bet(limit_odds=1.1210272911574104, stake=12.831402020378162, agent_idx=13, event_idx=3) (unmatched)\n",
      "    Bet(limit_odds=1.276340366127901, stake=13.677591909940771, agent_idx=11, event_idx=3) (unmatched)\n",
      "    Lay(limit_odds=1.359272947733516, stake=12.375825722149383, agent_idx=12, event_idx=3) (matched)\n",
      "    Lay(limit_odds=1.2994079940244945, stake=19.71518105313191, agent_idx=10, event_idx=3) (matched)\n",
      "    Lay(limit_odds=1.2760704338610713, stake=13.205822731380557, agent_idx=23, event_idx=3) (matched)\n",
      "    Lay(limit_odds=1.2437152257620023, stake=16.142910345822763, agent_idx=14, event_idx=3) (matched)\n",
      "    Lay(limit_odds=1.0908956165718169, stake=18.984262449156954, agent_idx=7, event_idx=3) (unmatched)\n",
      "    Lay(limit_odds=0.9592068960499668, stake=19.498045159384546, agent_idx=17, event_idx=3) (unmatched)\n",
      "    Lay(limit_odds=0.9542946362006186, stake=16.30214360863711, agent_idx=19, event_idx=3) (unmatched)\n",
      "    Lay(limit_odds=0.8695600224511162, stake=12.008992822212651, agent_idx=15, event_idx=3) (unmatched)\n",
      "    Lay(limit_odds=0.8160623504866288, stake=10.79059156787764, agent_idx=4, event_idx=3) (unmatched)\n",
      "    Lay(limit_odds=0.6951714555849988, stake=13.840535624444145, agent_idx=18, event_idx=3) (unmatched)\n"
     ]
    }
   ],
   "source": [
    "print(event)"
   ]
  }
 ],
 "metadata": {
  "kernelspec": {
   "display_name": "Python",
   "name": "python397jvsc74a57bd04cd7ab41f5fca4b9b44701077e38c5ffd31fe66a6cab21e0214b68d958d0e462"
  },
  "language_info": {
   "codemirror_mode": {
    "name": "ipython",
    "version": 3
   },
   "file_extension": ".py",
   "mimetype": "text/x-python",
   "name": "python",
   "nbconvert_exporter": "python",
   "pygments_lexer": "ipython3",
   "version": "3.9.7"
  },
  "orig_nbformat": 2
 },
 "nbformat": 4,
 "nbformat_minor": 2
}