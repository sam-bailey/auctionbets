{
 "cells": [
  {
   "cell_type": "markdown",
   "metadata": {},
   "source": [
    "# Simulation Basics\n",
    "\n",
    "These are the basic components we will use for our simulations. This notebook goes over how they work."
   ]
  },
  {
   "cell_type": "code",
   "execution_count": 1,
   "metadata": {
    "execution": {
     "iopub.execute_input": "2021-11-20T22:20:31.331462Z",
     "iopub.status.busy": "2021-11-20T22:20:31.330913Z",
     "iopub.status.idle": "2021-11-20T22:20:31.433503Z",
     "shell.execute_reply": "2021-11-20T22:20:31.434528Z"
    }
   },
   "outputs": [],
   "source": [
    "import numpy as np\n",
    "\n",
    "from auctionbets.events import Event\n",
    "from auctionbets.agents import Agent"
   ]
  },
  {
   "cell_type": "markdown",
   "metadata": {},
   "source": [
    "## Agents\n",
    "\n",
    "Agents represent people who make or lay bets. An agent just has their capital, which is the total stake of money they have left, and a list of ids for their open bets (bets they have not yet collected for). "
   ]
  },
  {
   "cell_type": "code",
   "execution_count": 2,
   "metadata": {
    "execution": {
     "iopub.execute_input": "2021-11-20T22:20:31.438086Z",
     "iopub.status.busy": "2021-11-20T22:20:31.437118Z",
     "iopub.status.idle": "2021-11-20T22:20:31.443759Z",
     "shell.execute_reply": "2021-11-20T22:20:31.443369Z"
    }
   },
   "outputs": [
    {
     "name": "stdout",
     "output_type": "stream",
     "text": [
      "**Agent 0**\n",
      "  Capital: 100.00\n",
      "  Open bets:\n",
      "**Agent 1**\n",
      "  Capital: 100.00\n",
      "  Open bets:\n"
     ]
    }
   ],
   "source": [
    "agent_1 = Agent(starting_capital=100.0)\n",
    "agent_2 = Agent(starting_capital=100.0)\n",
    "\n",
    "print(agent_1)\n",
    "print(agent_2)"
   ]
  },
  {
   "cell_type": "markdown",
   "metadata": {},
   "source": [
    "## Events\n",
    "\n",
    "Events represent specific sporting events with a binary outcome (win or lose). These are the events that agents can bet on. \n",
    "\n",
    "Each event has a \"true probability\" of happening. This is unknown to the agents. "
   ]
  },
  {
   "cell_type": "code",
   "execution_count": 3,
   "metadata": {
    "execution": {
     "iopub.execute_input": "2021-11-20T22:20:31.447572Z",
     "iopub.status.busy": "2021-11-20T22:20:31.447116Z",
     "iopub.status.idle": "2021-11-20T22:20:31.450777Z",
     "shell.execute_reply": "2021-11-20T22:20:31.450393Z"
    }
   },
   "outputs": [
    {
     "name": "stdout",
     "output_type": "stream",
     "text": [
      "**Event 2**\n",
      "  True Probability: 0.5\n",
      "  Bettor Odds: unset\n",
      "  Layer Odds: unset\n",
      "  All bets:\n"
     ]
    }
   ],
   "source": [
    "event_1 = Event(true_probability=0.5)\n",
    "print(event_1)"
   ]
  },
  {
   "cell_type": "markdown",
   "metadata": {},
   "source": [
    "Now agents can either bet or lay an event. \n",
    "\n",
    "If they bet the event, then they are betting the outcome happens. If it happens, they get their stake back, plus the odds * their stake. \n",
    "\n",
    "If the lay the event, they are taking the opposite side of that bet. Therefore, they lose if the outcome happens. If the outcome happens, they lose their money.\n",
    "\n",
    "Here agent 1 bets on the event, and agent 2 lays it."
   ]
  },
  {
   "cell_type": "code",
   "execution_count": 4,
   "metadata": {
    "execution": {
     "iopub.execute_input": "2021-11-20T22:20:31.455103Z",
     "iopub.status.busy": "2021-11-20T22:20:31.454647Z",
     "iopub.status.idle": "2021-11-20T22:20:31.457932Z",
     "shell.execute_reply": "2021-11-20T22:20:31.457537Z"
    }
   },
   "outputs": [
    {
     "name": "stdout",
     "output_type": "stream",
     "text": [
      "Bet(limit_odds=1.5, stake=10.0, agent_idx=0, event_idx=2)\n",
      "Lay(limit_odds=2.0, stake=30.0, agent_idx=1, event_idx=2)\n"
     ]
    }
   ],
   "source": [
    "bet_1 = agent_1.bet(min_odds=1.5, stake=10.0, event=event_1)\n",
    "bet_2 = agent_2.lay(max_odds=2.0, stake=30.0, event=event_1)\n",
    "\n",
    "print(bet_1)\n",
    "print(bet_2)"
   ]
  },
  {
   "cell_type": "markdown",
   "metadata": {},
   "source": [
    "Now the event and the agents both have those bets associated with them:"
   ]
  },
  {
   "cell_type": "code",
   "execution_count": 5,
   "metadata": {
    "execution": {
     "iopub.execute_input": "2021-11-20T22:20:31.462361Z",
     "iopub.status.busy": "2021-11-20T22:20:31.461875Z",
     "iopub.status.idle": "2021-11-20T22:20:31.463460Z",
     "shell.execute_reply": "2021-11-20T22:20:31.463820Z"
    }
   },
   "outputs": [
    {
     "name": "stdout",
     "output_type": "stream",
     "text": [
      "**Agent 0**\n",
      "  Capital: 90.00\n",
      "  Open bets:\n",
      "    Bet(limit_odds=1.5, stake=10.0, agent_idx=0, event_idx=2)\n",
      "**Agent 1**\n",
      "  Capital: 70.00\n",
      "  Open bets:\n",
      "    Lay(limit_odds=2.0, stake=30.0, agent_idx=1, event_idx=2)\n",
      "**Event 2**\n",
      "  True Probability: 0.5\n",
      "  Bettor Odds: unset\n",
      "  Layer Odds: unset\n",
      "  All bets:\n",
      "    Bet(limit_odds=1.5, stake=10.0, agent_idx=0, event_idx=2) (unmatched)\n",
      "    Lay(limit_odds=2.0, stake=30.0, agent_idx=1, event_idx=2) (unmatched)\n"
     ]
    }
   ],
   "source": [
    "print(agent_1)\n",
    "print(agent_2)\n",
    "print(event_1)"
   ]
  },
  {
   "cell_type": "markdown",
   "metadata": {},
   "source": [
    "## Running an event\n",
    "\n",
    "An event needs to first be matched, which is where we run the double auction mechanism and match up all possible bets. Those bets that cannot be matched get their stake returned."
   ]
  },
  {
   "cell_type": "code",
   "execution_count": 6,
   "metadata": {
    "execution": {
     "iopub.execute_input": "2021-11-20T22:20:31.470031Z",
     "iopub.status.busy": "2021-11-20T22:20:31.469564Z",
     "iopub.status.idle": "2021-11-20T22:20:31.473397Z",
     "shell.execute_reply": "2021-11-20T22:20:31.472911Z"
    }
   },
   "outputs": [
    {
     "name": "stdout",
     "output_type": "stream",
     "text": [
      "**Event 3**\n",
      "  True Probability: 0.5\n",
      "  Bettor Odds: unset\n",
      "  Layer Odds: unset\n",
      "  All bets:\n",
      "    Bet(limit_odds=0.6204133789317843, stake=15.410930483846446, agent_idx=4, event_idx=3) (unmatched)\n",
      "    Bet(limit_odds=0.9959379235811895, stake=18.419694967802766, agent_idx=5, event_idx=3) (unmatched)\n",
      "    Bet(limit_odds=0.513054552548167, stake=10.699071720877347, agent_idx=6, event_idx=3) (unmatched)\n",
      "    Bet(limit_odds=1.0937881421277327, stake=11.223521331116178, agent_idx=11, event_idx=3) (unmatched)\n",
      "    Bet(limit_odds=0.9741290819426277, stake=15.60422851934572, agent_idx=15, event_idx=3) (unmatched)\n",
      "    Bet(limit_odds=1.1656397070000537, stake=16.30666218487294, agent_idx=16, event_idx=3) (unmatched)\n",
      "    Bet(limit_odds=0.5587724548436223, stake=10.28760080874615, agent_idx=18, event_idx=3) (unmatched)\n",
      "    Bet(limit_odds=0.9223898459583447, stake=17.670424795242816, agent_idx=20, event_idx=3) (unmatched)\n",
      "    Bet(limit_odds=0.9147575889987861, stake=19.357985006220346, agent_idx=21, event_idx=3) (unmatched)\n",
      "    Bet(limit_odds=0.9425672853107924, stake=19.9965452869291, agent_idx=22, event_idx=3) (unmatched)\n",
      "    Bet(limit_odds=0.7873464832129169, stake=11.77041781309406, agent_idx=23, event_idx=3) (unmatched)\n",
      "    Lay(limit_odds=1.3687164382254136, stake=14.436908571043002, agent_idx=7, event_idx=3) (unmatched)\n",
      "    Lay(limit_odds=0.6782044582047072, stake=19.24615005315782, agent_idx=8, event_idx=3) (unmatched)\n",
      "    Lay(limit_odds=0.739323230484917, stake=14.409839723672594, agent_idx=9, event_idx=3) (unmatched)\n",
      "    Lay(limit_odds=1.518333775134912, stake=12.813478802267895, agent_idx=10, event_idx=3) (unmatched)\n",
      "    Lay(limit_odds=0.7382316837320761, stake=10.146122901229012, agent_idx=12, event_idx=3) (unmatched)\n",
      "    Lay(limit_odds=0.8878516486926863, stake=11.824324306681453, agent_idx=13, event_idx=3) (unmatched)\n",
      "    Lay(limit_odds=1.0249234055729979, stake=17.97302618277665, agent_idx=14, event_idx=3) (unmatched)\n",
      "    Lay(limit_odds=1.0630860465178336, stake=17.27258945833304, agent_idx=17, event_idx=3) (unmatched)\n",
      "    Lay(limit_odds=1.2548242089253474, stake=17.304025460754286, agent_idx=19, event_idx=3) (unmatched)\n"
     ]
    }
   ],
   "source": [
    "event = Event(true_probability=0.5)\n",
    "\n",
    "n_agents = 20\n",
    "agents_pool = [Agent(starting_capital=0) for _ in range(n_agents)]\n",
    "\n",
    "is_lay_lst = np.random.choice([True, False], n_agents)\n",
    "stake_lst = np.random.rand(n_agents) * (20.0 - 10.0) + 10.0\n",
    "odds_lst = np.random.rand(n_agents) + 0.5\n",
    "\n",
    "for agent, is_lay, stake, odds in zip(agents_pool, is_lay_lst, stake_lst, odds_lst):\n",
    "    if is_lay:\n",
    "        agent.lay(event=event, max_odds=odds + 0.1, stake=stake)\n",
    "    else:\n",
    "        agent.bet(event=event, min_odds=odds - 0.1, stake=stake)\n",
    "\n",
    "print(event)"
   ]
  },
  {
   "cell_type": "code",
   "execution_count": 7,
   "metadata": {
    "execution": {
     "iopub.execute_input": "2021-11-20T22:20:31.477101Z",
     "iopub.status.busy": "2021-11-20T22:20:31.476181Z",
     "iopub.status.idle": "2021-11-20T22:20:31.483124Z",
     "shell.execute_reply": "2021-11-20T22:20:31.482724Z"
    }
   },
   "outputs": [
    {
     "name": "stdout",
     "output_type": "stream",
     "text": [
      "\n",
      "New round\n",
      "total_stake_bet = 0.0\n",
      "total_stake_layed = 0.0\n",
      "current_bet_odds = 0.513054552548167\n",
      "current_lay_odds = 1.518333775134912\n",
      "Lay Needed\n",
      "next_lay_odds = 1.3687164382254136\n",
      "Lay matched\n",
      "\n",
      "New round\n",
      "total_stake_bet = 0.0\n",
      "total_stake_layed = 12.813478802267895\n",
      "current_bet_odds = 0.513054552548167\n",
      "current_lay_odds = 1.3687164382254136\n",
      "Bet Needed\n",
      "Bet matched\n",
      "\n",
      "New round\n",
      "total_stake_bet = 10.699071720877347\n",
      "total_stake_layed = 12.813478802267895\n",
      "current_bet_odds = 0.5587724548436223\n",
      "current_lay_odds = 1.3687164382254136\n",
      "Bet Needed\n",
      "Bet matched\n",
      "\n",
      "New round\n",
      "total_stake_bet = 20.986672529623497\n",
      "total_stake_layed = 12.813478802267895\n",
      "current_bet_odds = 0.6204133789317843\n",
      "current_lay_odds = 1.3687164382254136\n",
      "Lay Needed\n",
      "next_lay_odds = 1.2548242089253474\n",
      "Lay matched\n",
      "\n",
      "New round\n",
      "total_stake_bet = 20.986672529623497\n",
      "total_stake_layed = 27.250387373310897\n",
      "current_bet_odds = 0.6204133789317843\n",
      "current_lay_odds = 1.2548242089253474\n",
      "Bet Needed\n",
      "Bet matched\n",
      "\n",
      "New round\n",
      "total_stake_bet = 36.39760301346995\n",
      "total_stake_layed = 27.250387373310897\n",
      "current_bet_odds = 0.7873464832129169\n",
      "current_lay_odds = 1.2548242089253474\n",
      "Lay Needed\n",
      "next_lay_odds = 1.0630860465178336\n",
      "Lay matched\n",
      "\n",
      "New round\n",
      "total_stake_bet = 36.39760301346995\n",
      "total_stake_layed = 44.55441283406518\n",
      "current_bet_odds = 0.7873464832129169\n",
      "current_lay_odds = 1.0630860465178336\n",
      "Bet Needed\n",
      "Bet matched\n",
      "\n",
      "New round\n",
      "total_stake_bet = 48.168020826564\n",
      "total_stake_layed = 44.55441283406518\n",
      "current_bet_odds = 0.9147575889987861\n",
      "current_lay_odds = 1.0630860465178336\n",
      "Lay Needed\n",
      "next_lay_odds = 1.0249234055729979\n",
      "Lay matched\n",
      "\n",
      "New round\n",
      "total_stake_bet = 48.168020826564\n",
      "total_stake_layed = 61.82700229239822\n",
      "current_bet_odds = 0.9147575889987861\n",
      "current_lay_odds = 1.0249234055729979\n",
      "Bet Needed\n",
      "Bet matched\n",
      "\n",
      "New round\n",
      "total_stake_bet = 67.52600583278435\n",
      "total_stake_layed = 61.82700229239822\n",
      "current_bet_odds = 0.9223898459583447\n",
      "current_lay_odds = 1.0249234055729979\n",
      "Lay Needed\n",
      "next_lay_odds = 0.8878516486926863\n",
      "Match not possible\n",
      "Process complete\n"
     ]
    }
   ],
   "source": [
    "event.match_bets()"
   ]
  },
  {
   "cell_type": "code",
   "execution_count": 8,
   "metadata": {
    "execution": {
     "iopub.execute_input": "2021-11-20T22:20:31.486490Z",
     "iopub.status.busy": "2021-11-20T22:20:31.486044Z",
     "iopub.status.idle": "2021-11-20T22:20:31.489309Z",
     "shell.execute_reply": "2021-11-20T22:20:31.488883Z"
    }
   },
   "outputs": [
    {
     "name": "stdout",
     "output_type": "stream",
     "text": [
      "**Event 3**\n",
      "  True Probability: 0.5\n",
      "  Bettor Odds: 0.9223898459583447\n",
      "  Layer Odds: 1.0249234055729979\n",
      "  All bets:\n",
      "    Bet(limit_odds=0.513054552548167, stake=10.699071720877347, agent_idx=6, event_idx=3) (matched)\n",
      "    Bet(limit_odds=0.5587724548436223, stake=10.28760080874615, agent_idx=18, event_idx=3) (matched)\n",
      "    Bet(limit_odds=0.6204133789317843, stake=15.410930483846446, agent_idx=4, event_idx=3) (matched)\n",
      "    Bet(limit_odds=0.7873464832129169, stake=11.77041781309406, agent_idx=23, event_idx=3) (matched)\n",
      "    Bet(limit_odds=0.9147575889987861, stake=19.357985006220346, agent_idx=21, event_idx=3) (matched)\n",
      "    Bet(limit_odds=0.9223898459583447, stake=17.670424795242816, agent_idx=20, event_idx=3) (unmatched)\n",
      "    Bet(limit_odds=0.9425672853107924, stake=19.9965452869291, agent_idx=22, event_idx=3) (unmatched)\n",
      "    Bet(limit_odds=0.9741290819426277, stake=15.60422851934572, agent_idx=15, event_idx=3) (unmatched)\n",
      "    Bet(limit_odds=0.9959379235811895, stake=18.419694967802766, agent_idx=5, event_idx=3) (unmatched)\n",
      "    Bet(limit_odds=1.0937881421277327, stake=11.223521331116178, agent_idx=11, event_idx=3) (unmatched)\n",
      "    Bet(limit_odds=1.1656397070000537, stake=16.30666218487294, agent_idx=16, event_idx=3) (unmatched)\n",
      "    Lay(limit_odds=1.518333775134912, stake=12.813478802267895, agent_idx=10, event_idx=3) (matched)\n",
      "    Lay(limit_odds=1.3687164382254136, stake=14.436908571043002, agent_idx=7, event_idx=3) (matched)\n",
      "    Lay(limit_odds=1.2548242089253474, stake=17.304025460754286, agent_idx=19, event_idx=3) (matched)\n",
      "    Lay(limit_odds=1.0630860465178336, stake=17.27258945833304, agent_idx=17, event_idx=3) (matched)\n",
      "    Lay(limit_odds=1.0249234055729979, stake=17.97302618277665, agent_idx=14, event_idx=3) (unmatched)\n",
      "    Lay(limit_odds=0.8878516486926863, stake=11.824324306681453, agent_idx=13, event_idx=3) (unmatched)\n",
      "    Lay(limit_odds=0.739323230484917, stake=14.409839723672594, agent_idx=9, event_idx=3) (unmatched)\n",
      "    Lay(limit_odds=0.7382316837320761, stake=10.146122901229012, agent_idx=12, event_idx=3) (unmatched)\n",
      "    Lay(limit_odds=0.6782044582047072, stake=19.24615005315782, agent_idx=8, event_idx=3) (unmatched)\n"
     ]
    }
   ],
   "source": [
    "print(event)"
   ]
  }
 ],
 "metadata": {
  "kernelspec": {
   "display_name": "Python",
   "name": "python397jvsc74a57bd04cd7ab41f5fca4b9b44701077e38c5ffd31fe66a6cab21e0214b68d958d0e462"
  },
  "language_info": {
   "codemirror_mode": {
    "name": "ipython",
    "version": 3
   },
   "file_extension": ".py",
   "mimetype": "text/x-python",
   "name": "python",
   "nbconvert_exporter": "python",
   "pygments_lexer": "ipython3",
   "version": "3.9.8"
  }
 },
 "nbformat": 4,
 "nbformat_minor": 2
}
