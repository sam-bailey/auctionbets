{
 "cells": [
  {
   "cell_type": "markdown",
   "metadata": {},
   "source": [
    "# Simulation Basics\n",
    "\n",
    "These are the basic components we will use for our simulations. This notebook goes over how they work."
   ]
  },
  {
   "cell_type": "code",
   "execution_count": 1,
   "metadata": {},
   "outputs": [],
   "source": [
    "import numpy as np\n",
    "\n",
    "from auctionbets.events import Event\n",
    "from auctionbets.agents import Agent"
   ]
  },
  {
   "cell_type": "markdown",
   "metadata": {},
   "source": [
    "## Agents\n",
    "\n",
    "Agents represent people who make or lay bets. An agent just has their capital, which is the total stake of money they have left, and a list of ids for their open bets (bets they have not yet collected for). "
   ]
  },
  {
   "cell_type": "code",
   "execution_count": 2,
   "metadata": {},
   "outputs": [
    {
     "name": "stdout",
     "output_type": "stream",
     "text": [
      "**Agent 0**\n",
      "  Capital: 100.00\n",
      "  Open bets:\n",
      "**Agent 1**\n",
      "  Capital: 100.00\n",
      "  Open bets:\n"
     ]
    }
   ],
   "source": [
    "agent_1 = Agent(starting_capital=100.0)\n",
    "agent_2 = Agent(starting_capital=100.0)\n",
    "\n",
    "print(agent_1)\n",
    "print(agent_2)"
   ]
  },
  {
   "cell_type": "markdown",
   "metadata": {},
   "source": [
    "## Events\n",
    "\n",
    "Events represent specific sporting events with a binary outcome (win or lose). These are the events that agents can bet on. \n",
    "\n",
    "Each event has a \"true probability\" of happening. This is unknown to the agents. "
   ]
  },
  {
   "cell_type": "code",
   "execution_count": 3,
   "metadata": {},
   "outputs": [
    {
     "name": "stdout",
     "output_type": "stream",
     "text": [
      "**Event 2**\n",
      "  True Probability: 0.5\n",
      "  Bettor Odds: unset\n",
      "  Layer Odds: unset\n",
      "  All bets:\n"
     ]
    }
   ],
   "source": [
    "event_1 = Event(true_probability=0.5)\n",
    "print(event_1)"
   ]
  },
  {
   "cell_type": "markdown",
   "metadata": {},
   "source": [
    "Now agents can either bet or lay an event. \n",
    "\n",
    "If they bet the event, then they are betting the outcome happens. If it happens, they get their stake back, plus the odds * their stake. \n",
    "\n",
    "If the lay the event, they are taking the opposite side of that bet. Therefore, they lose if the outcome happens. If the outcome happens, they lose their money.\n",
    "\n",
    "Here agent 1 bets on the event, and agent 2 lays it."
   ]
  },
  {
   "cell_type": "code",
   "execution_count": 4,
   "metadata": {},
   "outputs": [
    {
     "name": "stdout",
     "output_type": "stream",
     "text": [
      "Bet(limit_odds=1.5, stake=10.0, agent_idx=0, event_idx=2)\n",
      "Lay(limit_odds=2.0, stake=30.0, agent_idx=1, event_idx=2)\n"
     ]
    }
   ],
   "source": [
    "bet_1 = agent_1.bet(min_odds=1.5, stake=10.0, event=event_1)\n",
    "bet_2 = agent_2.lay(max_odds=2.0, stake=30.0, event=event_1)\n",
    "\n",
    "print(bet_1)\n",
    "print(bet_2)"
   ]
  },
  {
   "cell_type": "markdown",
   "metadata": {},
   "source": [
    "Now the event and the agents both have those bets associated with them:"
   ]
  },
  {
   "cell_type": "code",
   "execution_count": 5,
   "metadata": {},
   "outputs": [
    {
     "name": "stdout",
     "output_type": "stream",
     "text": [
      "**Agent 0**\n",
      "  Capital: 90.00\n",
      "  Open bets:\n",
      "    Bet(limit_odds=1.5, stake=10.0, agent_idx=0, event_idx=2)\n",
      "**Agent 1**\n",
      "  Capital: 70.00\n",
      "  Open bets:\n",
      "    Lay(limit_odds=2.0, stake=30.0, agent_idx=1, event_idx=2)\n",
      "**Event 2**\n",
      "  True Probability: 0.5\n",
      "  Bettor Odds: unset\n",
      "  Layer Odds: unset\n",
      "  All bets:\n",
      "    Bet(limit_odds=1.5, stake=10.0, agent_idx=0, event_idx=2) (unmatched)\n",
      "    Lay(limit_odds=2.0, stake=30.0, agent_idx=1, event_idx=2) (unmatched)\n"
     ]
    }
   ],
   "source": [
    "print(agent_1)\n",
    "print(agent_2)\n",
    "print(event_1)"
   ]
  },
  {
   "cell_type": "markdown",
   "metadata": {},
   "source": [
    "## Running an event\n",
    "\n",
    "An event needs to first be matched, which is where we run the double auction mechanism and match up all possible bets. Those bets that cannot be matched get their stake returned."
   ]
  },
  {
   "cell_type": "code",
   "execution_count": 13,
   "metadata": {},
   "outputs": [
    {
     "name": "stdout",
     "output_type": "stream",
     "text": [
      "**Event 45**\n",
      "  True Probability: 0.5\n",
      "  Bettor Odds: unset\n",
      "  Layer Odds: unset\n",
      "  All bets:\n",
      "    Bet(limit_odds=1.2706045507326658, stake=10.77744296403749, agent_idx=49, event_idx=45) (unmatched)\n",
      "    Bet(limit_odds=0.5072479011748636, stake=12.401031016640045, agent_idx=50, event_idx=45) (unmatched)\n",
      "    Bet(limit_odds=0.8868899480113486, stake=15.176645904022724, agent_idx=52, event_idx=45) (unmatched)\n",
      "    Bet(limit_odds=0.6827579883004777, stake=16.48887181211879, agent_idx=57, event_idx=45) (unmatched)\n",
      "    Bet(limit_odds=0.5739091613626182, stake=12.407944541911249, agent_idx=60, event_idx=45) (unmatched)\n",
      "    Bet(limit_odds=1.0065463252212417, stake=11.7104315961871, agent_idx=65, event_idx=45) (unmatched)\n",
      "    Lay(limit_odds=1.1002033213816844, stake=11.310852577857315, agent_idx=46, event_idx=45) (unmatched)\n",
      "    Lay(limit_odds=0.6689829784898615, stake=14.088879566424044, agent_idx=47, event_idx=45) (unmatched)\n",
      "    Lay(limit_odds=1.2969111462504617, stake=15.788598066059686, agent_idx=48, event_idx=45) (unmatched)\n",
      "    Lay(limit_odds=0.6595317488135033, stake=11.87675690820605, agent_idx=51, event_idx=45) (unmatched)\n",
      "    Lay(limit_odds=1.0199989843700323, stake=15.085499733314832, agent_idx=53, event_idx=45) (unmatched)\n",
      "    Lay(limit_odds=0.6534911568298263, stake=16.94973786047965, agent_idx=54, event_idx=45) (unmatched)\n",
      "    Lay(limit_odds=0.8871664003272841, stake=16.638539258176543, agent_idx=55, event_idx=45) (unmatched)\n",
      "    Lay(limit_odds=0.8020509266952489, stake=18.250730945666277, agent_idx=56, event_idx=45) (unmatched)\n",
      "    Lay(limit_odds=0.8784680161909167, stake=18.883637858000668, agent_idx=58, event_idx=45) (unmatched)\n",
      "    Lay(limit_odds=0.8175478458976708, stake=19.299663703379082, agent_idx=59, event_idx=45) (unmatched)\n",
      "    Lay(limit_odds=0.6328302722085519, stake=11.213071794906359, agent_idx=61, event_idx=45) (unmatched)\n",
      "    Lay(limit_odds=1.549610694147199, stake=17.142485053270843, agent_idx=62, event_idx=45) (unmatched)\n",
      "    Lay(limit_odds=1.3674562590843191, stake=18.928040563308763, agent_idx=63, event_idx=45) (unmatched)\n",
      "    Lay(limit_odds=1.4739931692978683, stake=10.467313534791323, agent_idx=64, event_idx=45) (unmatched)\n"
     ]
    }
   ],
   "source": [
    "event = Event(true_probability=0.5)\n",
    "\n",
    "n_agents = 20\n",
    "agents_pool = [Agent(starting_capital=0) for _ in range(n_agents)]\n",
    "\n",
    "is_lay_lst = np.random.choice([True, False], n_agents)\n",
    "stake_lst = np.random.rand(n_agents) * (20.0 - 10.0) + 10.0\n",
    "odds_lst = np.random.rand(n_agents) + 0.5\n",
    "\n",
    "for agent, is_lay, stake, odds in zip(agents_pool, is_lay_lst, stake_lst, odds_lst):\n",
    "    if is_lay:\n",
    "        agent.lay(event=event, max_odds=odds + 0.1, stake=stake)\n",
    "    else:\n",
    "        agent.bet(event=event, min_odds=odds - 0.1, stake=stake)\n",
    "\n",
    "print(event)"
   ]
  },
  {
   "cell_type": "code",
   "execution_count": 14,
   "metadata": {},
   "outputs": [
    {
     "name": "stdout",
     "output_type": "stream",
     "text": [
      "\n",
      "New round\n",
      "total_stake_bet = 0.0\n",
      "total_stake_layed = 0.0\n",
      "current_bet_odds = 0.5072479011748636\n",
      "current_lay_odds = 1.549610694147199\n",
      "Lay Needed\n",
      "next_lay_odds = 1.4739931692978683\n",
      "Lay matched\n",
      "\n",
      "New round\n",
      "total_stake_bet = 0.0\n",
      "total_stake_layed = 17.142485053270843\n",
      "current_bet_odds = 0.5072479011748636\n",
      "current_lay_odds = 1.4739931692978683\n",
      "Bet Needed\n",
      "Bet matched\n",
      "\n",
      "New round\n",
      "total_stake_bet = 12.401031016640045\n",
      "total_stake_layed = 17.142485053270843\n",
      "current_bet_odds = 0.5739091613626182\n",
      "current_lay_odds = 1.4739931692978683\n",
      "Bet Needed\n",
      "Bet matched\n",
      "\n",
      "New round\n",
      "total_stake_bet = 24.808975558551296\n",
      "total_stake_layed = 17.142485053270843\n",
      "current_bet_odds = 0.6827579883004777\n",
      "current_lay_odds = 1.4739931692978683\n",
      "Lay Needed\n",
      "next_lay_odds = 1.3674562590843191\n",
      "Lay matched\n",
      "\n",
      "New round\n",
      "total_stake_bet = 24.808975558551296\n",
      "total_stake_layed = 27.609798588062166\n",
      "current_bet_odds = 0.6827579883004777\n",
      "current_lay_odds = 1.3674562590843191\n",
      "Bet Needed\n",
      "Bet matched\n",
      "\n",
      "New round\n",
      "total_stake_bet = 41.297847370670084\n",
      "total_stake_layed = 27.609798588062166\n",
      "current_bet_odds = 0.8868899480113486\n",
      "current_lay_odds = 1.3674562590843191\n",
      "Lay Needed\n",
      "next_lay_odds = 1.2969111462504617\n",
      "Lay matched\n",
      "\n",
      "New round\n",
      "total_stake_bet = 41.297847370670084\n",
      "total_stake_layed = 46.53783915137093\n",
      "current_bet_odds = 0.8868899480113486\n",
      "current_lay_odds = 1.2969111462504617\n",
      "Lay Needed\n",
      "next_lay_odds = 1.1002033213816844\n",
      "Lay matched\n",
      "\n",
      "New round\n",
      "total_stake_bet = 41.297847370670084\n",
      "total_stake_layed = 62.326437217430616\n",
      "current_bet_odds = 0.8868899480113486\n",
      "current_lay_odds = 1.1002033213816844\n",
      "Bet Needed\n",
      "Bet matched\n",
      "\n",
      "New round\n",
      "total_stake_bet = 56.474493274692804\n",
      "total_stake_layed = 62.326437217430616\n",
      "current_bet_odds = 1.0065463252212417\n",
      "current_lay_odds = 1.1002033213816844\n",
      "Lay Needed\n",
      "next_lay_odds = 1.0199989843700323\n",
      "Lay matched\n",
      "\n",
      "New round\n",
      "total_stake_bet = 56.474493274692804\n",
      "total_stake_layed = 73.63728979528793\n",
      "current_bet_odds = 1.0065463252212417\n",
      "current_lay_odds = 1.0199989843700323\n",
      "Bet Needed\n",
      "Match not possible\n",
      "Process complete\n"
     ]
    }
   ],
   "source": [
    "event.match_bets()"
   ]
  },
  {
   "cell_type": "code",
   "execution_count": 15,
   "metadata": {},
   "outputs": [
    {
     "name": "stdout",
     "output_type": "stream",
     "text": [
      "**Event 45**\n",
      "  True Probability: 0.5\n",
      "  Bettor Odds: unset\n",
      "  Layer Odds: unset\n",
      "  All bets:\n",
      "    Bet(limit_odds=0.5072479011748636, stake=12.401031016640045, agent_idx=50, event_idx=45) (matched)\n",
      "    Bet(limit_odds=0.5739091613626182, stake=12.407944541911249, agent_idx=60, event_idx=45) (matched)\n",
      "    Bet(limit_odds=0.6827579883004777, stake=16.48887181211879, agent_idx=57, event_idx=45) (matched)\n",
      "    Bet(limit_odds=0.8868899480113486, stake=15.176645904022724, agent_idx=52, event_idx=45) (matched)\n",
      "    Bet(limit_odds=1.0065463252212417, stake=11.7104315961871, agent_idx=65, event_idx=45) (unmatched)\n",
      "    Bet(limit_odds=1.2706045507326658, stake=10.77744296403749, agent_idx=49, event_idx=45) (unmatched)\n",
      "    Lay(limit_odds=1.549610694147199, stake=17.142485053270843, agent_idx=62, event_idx=45) (matched)\n",
      "    Lay(limit_odds=1.4739931692978683, stake=10.467313534791323, agent_idx=64, event_idx=45) (matched)\n",
      "    Lay(limit_odds=1.3674562590843191, stake=18.928040563308763, agent_idx=63, event_idx=45) (matched)\n",
      "    Lay(limit_odds=1.2969111462504617, stake=15.788598066059686, agent_idx=48, event_idx=45) (matched)\n",
      "    Lay(limit_odds=1.1002033213816844, stake=11.310852577857315, agent_idx=46, event_idx=45) (matched)\n",
      "    Lay(limit_odds=1.0199989843700323, stake=15.085499733314832, agent_idx=53, event_idx=45) (unmatched)\n",
      "    Lay(limit_odds=0.8871664003272841, stake=16.638539258176543, agent_idx=55, event_idx=45) (unmatched)\n",
      "    Lay(limit_odds=0.8784680161909167, stake=18.883637858000668, agent_idx=58, event_idx=45) (unmatched)\n",
      "    Lay(limit_odds=0.8175478458976708, stake=19.299663703379082, agent_idx=59, event_idx=45) (unmatched)\n",
      "    Lay(limit_odds=0.8020509266952489, stake=18.250730945666277, agent_idx=56, event_idx=45) (unmatched)\n",
      "    Lay(limit_odds=0.6689829784898615, stake=14.088879566424044, agent_idx=47, event_idx=45) (unmatched)\n",
      "    Lay(limit_odds=0.6595317488135033, stake=11.87675690820605, agent_idx=51, event_idx=45) (unmatched)\n",
      "    Lay(limit_odds=0.6534911568298263, stake=16.94973786047965, agent_idx=54, event_idx=45) (unmatched)\n",
      "    Lay(limit_odds=0.6328302722085519, stake=11.213071794906359, agent_idx=61, event_idx=45) (unmatched)\n"
     ]
    }
   ],
   "source": [
    "print(event)"
   ]
  }
 ],
 "metadata": {
  "kernelspec": {
   "display_name": "Python",
   "name": "python397jvsc74a57bd04cd7ab41f5fca4b9b44701077e38c5ffd31fe66a6cab21e0214b68d958d0e462"
  },
  "language_info": {
   "codemirror_mode": {
    "name": "ipython",
    "version": 3
   },
   "file_extension": ".py",
   "mimetype": "text/x-python",
   "name": "python",
   "nbconvert_exporter": "python",
   "pygments_lexer": "ipython3",
   "version": "3.9.7"
  },
  "orig_nbformat": 2
 },
 "nbformat": 4,
 "nbformat_minor": 2
}