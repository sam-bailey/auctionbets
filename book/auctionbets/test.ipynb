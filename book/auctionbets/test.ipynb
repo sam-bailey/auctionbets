{
 "cells": [
  {
   "cell_type": "markdown",
   "metadata": {},
   "source": [
    "# Simulation Basics\n",
    "\n",
    "These are the basic components we will use for our simulations. This notebook goes over how they work."
   ]
  },
  {
   "cell_type": "code",
   "execution_count": 1,
   "metadata": {
    "execution": {
     "iopub.execute_input": "2021-11-20T22:16:23.981612Z",
     "iopub.status.busy": "2021-11-20T22:16:23.979621Z",
     "iopub.status.idle": "2021-11-20T22:16:24.123209Z",
     "shell.execute_reply": "2021-11-20T22:16:24.123931Z"
    }
   },
   "outputs": [],
   "source": [
    "import numpy as np\n",
    "\n",
    "from auctionbets.events import Event\n",
    "from auctionbets.agents import Agent"
   ]
  },
  {
   "cell_type": "markdown",
   "metadata": {},
   "source": [
    "## Agents\n",
    "\n",
    "Agents represent people who make or lay bets. An agent just has their capital, which is the total stake of money they have left, and a list of ids for their open bets (bets they have not yet collected for). "
   ]
  },
  {
   "cell_type": "code",
   "execution_count": 2,
   "metadata": {
    "execution": {
     "iopub.execute_input": "2021-11-20T22:16:24.129386Z",
     "iopub.status.busy": "2021-11-20T22:16:24.128108Z",
     "iopub.status.idle": "2021-11-20T22:16:24.138845Z",
     "shell.execute_reply": "2021-11-20T22:16:24.140003Z"
    }
   },
   "outputs": [
    {
     "name": "stdout",
     "output_type": "stream",
     "text": [
      "**Agent 0**\n",
      "  Capital: 100.00\n",
      "  Open bets:\n",
      "**Agent 1**\n",
      "  Capital: 100.00\n",
      "  Open bets:\n"
     ]
    }
   ],
   "source": [
    "agent_1 = Agent(starting_capital=100.0)\n",
    "agent_2 = Agent(starting_capital=100.0)\n",
    "\n",
    "print(agent_1)\n",
    "print(agent_2)"
   ]
  },
  {
   "cell_type": "markdown",
   "metadata": {},
   "source": [
    "## Events\n",
    "\n",
    "Events represent specific sporting events with a binary outcome (win or lose). These are the events that agents can bet on. \n",
    "\n",
    "Each event has a \"true probability\" of happening. This is unknown to the agents. "
   ]
  },
  {
   "cell_type": "code",
   "execution_count": 3,
   "metadata": {
    "execution": {
     "iopub.execute_input": "2021-11-20T22:16:24.146525Z",
     "iopub.status.busy": "2021-11-20T22:16:24.145202Z",
     "iopub.status.idle": "2021-11-20T22:16:24.151845Z",
     "shell.execute_reply": "2021-11-20T22:16:24.152490Z"
    }
   },
   "outputs": [
    {
     "name": "stdout",
     "output_type": "stream",
     "text": [
      "**Event 2**\n",
      "  True Probability: 0.5\n",
      "  Bettor Odds: unset\n",
      "  Layer Odds: unset\n",
      "  All bets:\n"
     ]
    }
   ],
   "source": [
    "event_1 = Event(true_probability=0.5)\n",
    "print(event_1)"
   ]
  },
  {
   "cell_type": "markdown",
   "metadata": {},
   "source": [
    "Now agents can either bet or lay an event. \n",
    "\n",
    "If they bet the event, then they are betting the outcome happens. If it happens, they get their stake back, plus the odds * their stake. \n",
    "\n",
    "If the lay the event, they are taking the opposite side of that bet. Therefore, they lose if the outcome happens. If the outcome happens, they lose their money.\n",
    "\n",
    "Here agent 1 bets on the event, and agent 2 lays it."
   ]
  },
  {
   "cell_type": "code",
   "execution_count": 4,
   "metadata": {
    "execution": {
     "iopub.execute_input": "2021-11-20T22:16:24.158472Z",
     "iopub.status.busy": "2021-11-20T22:16:24.157167Z",
     "iopub.status.idle": "2021-11-20T22:16:24.177292Z",
     "shell.execute_reply": "2021-11-20T22:16:24.174705Z"
    }
   },
   "outputs": [
    {
     "name": "stdout",
     "output_type": "stream",
     "text": [
      "Bet(limit_odds=1.5, stake=10.0, agent_idx=0, event_idx=2)\n",
      "Lay(limit_odds=2.0, stake=30.0, agent_idx=1, event_idx=2)\n"
     ]
    }
   ],
   "source": [
    "bet_1 = agent_1.bet(min_odds=1.5, stake=10.0, event=event_1)\n",
    "bet_2 = agent_2.lay(max_odds=2.0, stake=30.0, event=event_1)\n",
    "\n",
    "print(bet_1)\n",
    "print(bet_2)"
   ]
  },
  {
   "cell_type": "markdown",
   "metadata": {},
   "source": [
    "Now the event and the agents both have those bets associated with them:"
   ]
  },
  {
   "cell_type": "code",
   "execution_count": 5,
   "metadata": {
    "execution": {
     "iopub.execute_input": "2021-11-20T22:16:24.184341Z",
     "iopub.status.busy": "2021-11-20T22:16:24.181759Z",
     "iopub.status.idle": "2021-11-20T22:16:24.194129Z",
     "shell.execute_reply": "2021-11-20T22:16:24.191635Z"
    }
   },
   "outputs": [
    {
     "name": "stdout",
     "output_type": "stream",
     "text": [
      "**Agent 0**\n",
      "  Capital: 90.00\n",
      "  Open bets:\n",
      "    Bet(limit_odds=1.5, stake=10.0, agent_idx=0, event_idx=2)\n",
      "**Agent 1**\n",
      "  Capital: 70.00\n",
      "  Open bets:\n",
      "    Lay(limit_odds=2.0, stake=30.0, agent_idx=1, event_idx=2)\n",
      "**Event 2**\n",
      "  True Probability: 0.5\n",
      "  Bettor Odds: unset\n",
      "  Layer Odds: unset\n",
      "  All bets:\n",
      "    Bet(limit_odds=1.5, stake=10.0, agent_idx=0, event_idx=2) (unmatched)\n",
      "    Lay(limit_odds=2.0, stake=30.0, agent_idx=1, event_idx=2) (unmatched)\n"
     ]
    }
   ],
   "source": [
    "print(agent_1)\n",
    "print(agent_2)\n",
    "print(event_1)"
   ]
  },
  {
   "cell_type": "markdown",
   "metadata": {},
   "source": [
    "## Running an event\n",
    "\n",
    "An event needs to first be matched, which is where we run the double auction mechanism and match up all possible bets. Those bets that cannot be matched get their stake returned."
   ]
  },
  {
   "cell_type": "code",
   "execution_count": 6,
   "metadata": {
    "execution": {
     "iopub.execute_input": "2021-11-20T22:16:24.206328Z",
     "iopub.status.busy": "2021-11-20T22:16:24.201722Z",
     "iopub.status.idle": "2021-11-20T22:16:24.214001Z",
     "shell.execute_reply": "2021-11-20T22:16:24.212536Z"
    }
   },
   "outputs": [
    {
     "name": "stdout",
     "output_type": "stream",
     "text": [
      "**Event 3**\n",
      "  True Probability: 0.5\n",
      "  Bettor Odds: unset\n",
      "  Layer Odds: unset\n",
      "  All bets:\n",
      "    Bet(limit_odds=0.41686482426836724, stake=10.094335169983701, agent_idx=7, event_idx=3) (unmatched)\n",
      "    Bet(limit_odds=1.240829404094187, stake=14.505629533886646, agent_idx=8, event_idx=3) (unmatched)\n",
      "    Bet(limit_odds=0.8863198259462458, stake=17.3379540590293, agent_idx=11, event_idx=3) (unmatched)\n",
      "    Bet(limit_odds=1.1274590836032317, stake=11.413572931594487, agent_idx=14, event_idx=3) (unmatched)\n",
      "    Bet(limit_odds=0.45478437668427707, stake=12.834567382629064, agent_idx=15, event_idx=3) (unmatched)\n",
      "    Bet(limit_odds=0.4555954625983899, stake=13.861198941856284, agent_idx=18, event_idx=3) (unmatched)\n",
      "    Bet(limit_odds=1.2955034474260616, stake=16.58003519424866, agent_idx=19, event_idx=3) (unmatched)\n",
      "    Bet(limit_odds=1.1153457070537969, stake=18.18650559446317, agent_idx=20, event_idx=3) (unmatched)\n",
      "    Bet(limit_odds=0.839769878202386, stake=15.637965650471696, agent_idx=21, event_idx=3) (unmatched)\n",
      "    Bet(limit_odds=0.45919368949171735, stake=16.858406943512765, agent_idx=23, event_idx=3) (unmatched)\n",
      "    Lay(limit_odds=1.220633794146487, stake=15.347623501637054, agent_idx=4, event_idx=3) (unmatched)\n",
      "    Lay(limit_odds=0.8872212884732187, stake=10.693234652315173, agent_idx=5, event_idx=3) (unmatched)\n",
      "    Lay(limit_odds=0.6618916968824032, stake=14.302324618813381, agent_idx=6, event_idx=3) (unmatched)\n",
      "    Lay(limit_odds=0.7793416848818655, stake=17.80767161036189, agent_idx=9, event_idx=3) (unmatched)\n",
      "    Lay(limit_odds=1.0980722363657487, stake=11.955520690844, agent_idx=10, event_idx=3) (unmatched)\n",
      "    Lay(limit_odds=1.1839284608084188, stake=13.844441717238599, agent_idx=12, event_idx=3) (unmatched)\n",
      "    Lay(limit_odds=1.3250666058053602, stake=10.756662483691352, agent_idx=13, event_idx=3) (unmatched)\n",
      "    Lay(limit_odds=1.0878894686406484, stake=16.684455832546583, agent_idx=16, event_idx=3) (unmatched)\n",
      "    Lay(limit_odds=1.1539764961458818, stake=10.729168496482488, agent_idx=17, event_idx=3) (unmatched)\n",
      "    Lay(limit_odds=0.9045773602074765, stake=13.816189850241365, agent_idx=22, event_idx=3) (unmatched)\n"
     ]
    }
   ],
   "source": [
    "event = Event(true_probability=0.5)\n",
    "\n",
    "n_agents = 20\n",
    "agents_pool = [Agent(starting_capital=0) for _ in range(n_agents)]\n",
    "\n",
    "is_lay_lst = np.random.choice([True, False], n_agents)\n",
    "stake_lst = np.random.rand(n_agents) * (20.0 - 10.0) + 10.0\n",
    "odds_lst = np.random.rand(n_agents) + 0.5\n",
    "\n",
    "for agent, is_lay, stake, odds in zip(agents_pool, is_lay_lst, stake_lst, odds_lst):\n",
    "    if is_lay:\n",
    "        agent.lay(event=event, max_odds=odds + 0.1, stake=stake)\n",
    "    else:\n",
    "        agent.bet(event=event, min_odds=odds - 0.1, stake=stake)\n",
    "\n",
    "print(event)"
   ]
  },
  {
   "cell_type": "code",
   "execution_count": 7,
   "metadata": {
    "execution": {
     "iopub.execute_input": "2021-11-20T22:16:24.225025Z",
     "iopub.status.busy": "2021-11-20T22:16:24.223265Z",
     "iopub.status.idle": "2021-11-20T22:16:24.239917Z",
     "shell.execute_reply": "2021-11-20T22:16:24.238951Z"
    }
   },
   "outputs": [
    {
     "name": "stdout",
     "output_type": "stream",
     "text": [
      "\n",
      "New round\n",
      "total_stake_bet = 0.0\n",
      "total_stake_layed = 0.0\n",
      "current_bet_odds = 0.41686482426836724\n",
      "current_lay_odds = 1.3250666058053602\n",
      "Lay Needed\n",
      "next_lay_odds = 1.220633794146487\n",
      "Lay matched\n",
      "\n",
      "New round\n",
      "total_stake_bet = 0.0\n",
      "total_stake_layed = 10.756662483691352\n",
      "current_bet_odds = 0.41686482426836724\n",
      "current_lay_odds = 1.220633794146487\n",
      "Bet Needed\n",
      "Bet matched\n",
      "\n",
      "New round\n",
      "total_stake_bet = 10.094335169983701\n",
      "total_stake_layed = 10.756662483691352\n",
      "current_bet_odds = 0.45478437668427707\n",
      "current_lay_odds = 1.220633794146487\n",
      "Bet Needed\n",
      "Bet matched\n",
      "\n",
      "New round\n",
      "total_stake_bet = 22.928902552612765\n",
      "total_stake_layed = 10.756662483691352\n",
      "current_bet_odds = 0.4555954625983899\n",
      "current_lay_odds = 1.220633794146487\n",
      "Lay Needed\n",
      "next_lay_odds = 1.1839284608084188\n",
      "Lay matched\n",
      "\n",
      "New round\n",
      "total_stake_bet = 22.928902552612765\n",
      "total_stake_layed = 26.104285985328406\n",
      "current_bet_odds = 0.4555954625983899\n",
      "current_lay_odds = 1.1839284608084188\n",
      "Bet Needed\n",
      "Bet matched\n",
      "\n",
      "New round\n",
      "total_stake_bet = 36.79010149446905\n",
      "total_stake_layed = 26.104285985328406\n",
      "current_bet_odds = 0.45919368949171735\n",
      "current_lay_odds = 1.1839284608084188\n",
      "Bet Needed\n",
      "Bet matched\n",
      "\n",
      "New round\n",
      "total_stake_bet = 53.64850843798182\n",
      "total_stake_layed = 26.104285985328406\n",
      "current_bet_odds = 0.839769878202386\n",
      "current_lay_odds = 1.1839284608084188\n",
      "Lay Needed\n",
      "next_lay_odds = 1.1539764961458818\n",
      "Lay matched\n",
      "\n",
      "New round\n",
      "total_stake_bet = 53.64850843798182\n",
      "total_stake_layed = 39.948727702567005\n",
      "current_bet_odds = 0.839769878202386\n",
      "current_lay_odds = 1.1539764961458818\n",
      "Lay Needed\n",
      "next_lay_odds = 1.0980722363657487\n",
      "Lay matched\n",
      "\n",
      "New round\n",
      "total_stake_bet = 53.64850843798182\n",
      "total_stake_layed = 50.67789619904949\n",
      "current_bet_odds = 0.839769878202386\n",
      "current_lay_odds = 1.0980722363657487\n",
      "Bet Needed\n",
      "Bet matched\n",
      "\n",
      "New round\n",
      "total_stake_bet = 69.28647408845352\n",
      "total_stake_layed = 50.67789619904949\n",
      "current_bet_odds = 0.8863198259462458\n",
      "current_lay_odds = 1.0980722363657487\n",
      "Lay Needed\n",
      "next_lay_odds = 1.0878894686406484\n",
      "Lay matched\n",
      "\n",
      "New round\n",
      "total_stake_bet = 69.28647408845352\n",
      "total_stake_layed = 62.633416889893496\n",
      "current_bet_odds = 0.8863198259462458\n",
      "current_lay_odds = 1.0878894686406484\n",
      "Lay Needed\n",
      "next_lay_odds = 0.9045773602074765\n",
      "Lay matched\n",
      "\n",
      "New round\n",
      "total_stake_bet = 69.28647408845352\n",
      "total_stake_layed = 79.31787272244009\n",
      "current_bet_odds = 0.8863198259462458\n",
      "current_lay_odds = 0.9045773602074765\n",
      "Bet Needed\n",
      "Match not possible\n",
      "Process complete\n"
     ]
    }
   ],
   "source": [
    "event.match_bets()"
   ]
  },
  {
   "cell_type": "code",
   "execution_count": 8,
   "metadata": {
    "execution": {
     "iopub.execute_input": "2021-11-20T22:16:24.261975Z",
     "iopub.status.busy": "2021-11-20T22:16:24.260714Z",
     "iopub.status.idle": "2021-11-20T22:16:24.277763Z",
     "shell.execute_reply": "2021-11-20T22:16:24.277124Z"
    }
   },
   "outputs": [
    {
     "name": "stdout",
     "output_type": "stream",
     "text": [
      "**Event 3**\n",
      "  True Probability: 0.5\n",
      "  Bettor Odds: 0.8863198259462458\n",
      "  Layer Odds: 0.9045773602074765\n",
      "  All bets:\n",
      "    Bet(limit_odds=0.41686482426836724, stake=10.094335169983701, agent_idx=7, event_idx=3) (matched)\n",
      "    Bet(limit_odds=0.45478437668427707, stake=12.834567382629064, agent_idx=15, event_idx=3) (matched)\n",
      "    Bet(limit_odds=0.4555954625983899, stake=13.861198941856284, agent_idx=18, event_idx=3) (matched)\n",
      "    Bet(limit_odds=0.45919368949171735, stake=16.858406943512765, agent_idx=23, event_idx=3) (matched)\n",
      "    Bet(limit_odds=0.839769878202386, stake=15.637965650471696, agent_idx=21, event_idx=3) (matched)\n",
      "    Bet(limit_odds=0.8863198259462458, stake=17.3379540590293, agent_idx=11, event_idx=3) (unmatched)\n",
      "    Bet(limit_odds=1.1153457070537969, stake=18.18650559446317, agent_idx=20, event_idx=3) (unmatched)\n",
      "    Bet(limit_odds=1.1274590836032317, stake=11.413572931594487, agent_idx=14, event_idx=3) (unmatched)\n",
      "    Bet(limit_odds=1.240829404094187, stake=14.505629533886646, agent_idx=8, event_idx=3) (unmatched)\n",
      "    Bet(limit_odds=1.2955034474260616, stake=16.58003519424866, agent_idx=19, event_idx=3) (unmatched)\n",
      "    Lay(limit_odds=1.3250666058053602, stake=10.756662483691352, agent_idx=13, event_idx=3) (matched)\n",
      "    Lay(limit_odds=1.220633794146487, stake=15.347623501637054, agent_idx=4, event_idx=3) (matched)\n",
      "    Lay(limit_odds=1.1839284608084188, stake=13.844441717238599, agent_idx=12, event_idx=3) (matched)\n",
      "    Lay(limit_odds=1.1539764961458818, stake=10.729168496482488, agent_idx=17, event_idx=3) (matched)\n",
      "    Lay(limit_odds=1.0980722363657487, stake=11.955520690844, agent_idx=10, event_idx=3) (matched)\n",
      "    Lay(limit_odds=1.0878894686406484, stake=16.684455832546583, agent_idx=16, event_idx=3) (matched)\n",
      "    Lay(limit_odds=0.9045773602074765, stake=13.816189850241365, agent_idx=22, event_idx=3) (unmatched)\n",
      "    Lay(limit_odds=0.8872212884732187, stake=10.693234652315173, agent_idx=5, event_idx=3) (unmatched)\n",
      "    Lay(limit_odds=0.7793416848818655, stake=17.80767161036189, agent_idx=9, event_idx=3) (unmatched)\n",
      "    Lay(limit_odds=0.6618916968824032, stake=14.302324618813381, agent_idx=6, event_idx=3) (unmatched)\n"
     ]
    }
   ],
   "source": [
    "print(event)"
   ]
  }
 ],
 "metadata": {
  "kernelspec": {
   "display_name": "Python",
   "name": "python397jvsc74a57bd04cd7ab41f5fca4b9b44701077e38c5ffd31fe66a6cab21e0214b68d958d0e462"
  },
  "language_info": {
   "codemirror_mode": {
    "name": "ipython",
    "version": 3
   },
   "file_extension": ".py",
   "mimetype": "text/x-python",
   "name": "python",
   "nbconvert_exporter": "python",
   "pygments_lexer": "ipython3",
   "version": "3.9.7"
  }
 },
 "nbformat": 4,
 "nbformat_minor": 2
}
